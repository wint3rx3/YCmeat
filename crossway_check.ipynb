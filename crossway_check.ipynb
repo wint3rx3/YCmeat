{
 "cells": [
  {
   "cell_type": "code",
   "execution_count": 15,
   "id": "f82acb77",
   "metadata": {},
   "outputs": [
    {
     "data": {
      "text/plain": [
       "<folium.features.GeoJson at 0x16f85cd90f0>"
      ]
     },
     "execution_count": 15,
     "metadata": {},
     "output_type": "execute_result"
    }
   ],
   "source": [
    "import folium\n",
    "import pandas as pd\n",
    "import geopandas as gpd\n",
    "\n",
    "crosswalk_path = \"data/raw_data/경기도_이천시_횡단보도_20250225.csv\"\n",
    "shp_path = \"data/SHP/경기도/LARD_ADM_SECT_SGG_41_202505.shp\"\n",
    "\n",
    "crosswalk_df = pd.read_csv(crosswalk_path)\n",
    "gdf = gpd.read_file(shp_path)\n",
    "gdf = gdf.to_crs(epsg=4326)\n",
    "\n",
    "# '이천시'만 필터링\n",
    "icheon = gdf[gdf[\"SGG_NM\"].str.contains(\"이천시\")]\n",
    "\n",
    "# folium 지도 생성 (CSV 중심 기준)\n",
    "m = folium.Map(location=[crosswalk_df[\"위도\"].mean(), crosswalk_df[\"경도\"].mean()], zoom_start=12)\n",
    "\n",
    "# CSV 점 시각화\n",
    "for _, row in crosswalk_df.iterrows():\n",
    "    folium.CircleMarker(\n",
    "        location=[row[\"위도\"], row[\"경도\"]],\n",
    "        radius=3,\n",
    "        color='blue',\n",
    "        fill=True,\n",
    "        fill_opacity=0.7\n",
    "    ).add_to(m)\n",
    "\n",
    "# SHP 경계선 시각화\n",
    "folium.GeoJson(\n",
    "    icheon,\n",
    "    name='이천시 경계선',\n",
    "    style_function=lambda feature: {\n",
    "        'color': 'red',\n",
    "        'weight': 2,\n",
    "        'fillOpacity': 0\n",
    "    }\n",
    ").add_to(m)\n",
    "\n",
    "# 지도 저장\n",
    "#m.save(\"icheon_map.html\")\n"
   ]
  },
  {
   "cell_type": "code",
   "execution_count": null,
   "id": "e69740dc",
   "metadata": {},
   "outputs": [],
   "source": [
    "m"
   ]
  }
 ],
 "metadata": {
  "kernelspec": {
   "display_name": "venv",
   "language": "python",
   "name": "python3"
  },
  "language_info": {
   "codemirror_mode": {
    "name": "ipython",
    "version": 3
   },
   "file_extension": ".py",
   "mimetype": "text/x-python",
   "name": "python",
   "nbconvert_exporter": "python",
   "pygments_lexer": "ipython3",
   "version": "3.13.3"
  }
 },
 "nbformat": 4,
 "nbformat_minor": 5
}
