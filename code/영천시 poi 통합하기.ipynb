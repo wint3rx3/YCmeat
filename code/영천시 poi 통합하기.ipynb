{
 "cells": [
  {
   "cell_type": "code",
   "execution_count": 6,
   "id": "4fa38d1e",
   "metadata": {},
   "outputs": [
    {
     "name": "stdout",
     "output_type": "stream",
     "text": [
      "           id             name category           x          y  \\\n",
      "0    18496405            공산칼국수      음식점  128.714131  36.054662   \n",
      "1     9152946             소원식당      음식점  128.713678  36.053840   \n",
      "2  1371209567  돌담식당 치산미나리 10호점      음식점  128.716198  36.056850   \n",
      "3  1325482892              소담상      음식점  128.708957  36.070521   \n",
      "4  1325479520            진한국물탕      음식점  128.708863  36.070619   \n",
      "\n",
      "                   address                              place_url  \n",
      "0     경북 영천시 신녕면 치산관광길 193    http://place.map.kakao.com/18496405  \n",
      "1     경북 영천시 신녕면 치산관광길 203     http://place.map.kakao.com/9152946  \n",
      "2     경북 영천시 신녕면 치산관광길 162  http://place.map.kakao.com/1371209567  \n",
      "3  대구 군위군 산성면 치산효령로 865-43  http://place.map.kakao.com/1325482892  \n",
      "4  대구 군위군 산성면 치산효령로 865-43  http://place.map.kakao.com/1325479520  \n"
     ]
    }
   ],
   "source": [
    "import pandas as pd\n",
    "\n",
    "df = pd.read_csv(\"data/영천시_POI_카카오맵_수집결과.csv\")\n",
    "\n",
    "print(df.head(5))"
   ]
  },
  {
   "cell_type": "code",
   "execution_count": null,
   "id": "3b3a01df",
   "metadata": {},
   "outputs": [],
   "source": [
    "학원 o\n",
    "학교 o\n",
    "음식점 o\n",
    "의료시설(병원, 약국) o\n",
    "은행 o\n",
    "편의점 o\n",
    "주차장 o\n",
    "대형마트 o\n",
    "문화시설(박물관, 영화관, 공연장) o\n",
    "미용실 t\n",
    "체육 시설 t\n",
    "노인 복지 시설 t\n",
    "청소년 및 아동 복지시설 t\n",
    "돌봄시설(유치원, 어린이집) "
   ]
  },
  {
   "cell_type": "code",
   "execution_count": null,
   "id": "640e7dd5",
   "metadata": {},
   "outputs": [
    {
     "name": "stdout",
     "output_type": "stream",
     "text": [
      "   연번  구분           상호명                       소재지도로명주소          전화번호  \\\n",
      "0   1  법인          용평마을  경상북도 영천시 화산면 가일길 85-24 (용평마을)  054-334-2007   \n",
      "1   2  법인     마야노인전문요양원         경상북도 영천시 북안면 내서로 55-24  054-335-0056   \n",
      "2   3  법인  자광원(주식회사 덕원)           경상북도 영천시 금호읍 칠백로 339  054-338-6100   \n",
      "3   4  법인     마야실비노인요양원          경상북도 영천시 북안면 고지길 42-6  054-333-3993   \n",
      "4   5  법인      은해사 포근한집           경상북도 영천시 청통면 대동로 424  054-335-3314   \n",
      "\n",
      "         위도         경도     데이터기준일자  \n",
      "0  36.02296  128.83590  2025-02-14  \n",
      "1  35.91004  129.01633  2025-02-14  \n",
      "2  35.89662  128.91840  2025-02-14  \n",
      "3  35.90632  129.01238  2025-02-14  \n",
      "4  35.99198  128.80164  2025-02-14  \n"
     ]
    }
   ],
   "source": [
    "df1 = pd.read_csv(\"data/경상북도 영천시_노인복지시설현황_20250214.csv\", encoding='cp949')\n",
    "df1.head(5)"
   ]
  },
  {
   "cell_type": "code",
   "execution_count": null,
   "id": "1f767fe0",
   "metadata": {},
   "outputs": [
    {
     "data": {
      "text/html": [
       "<div>\n",
       "<style scoped>\n",
       "    .dataframe tbody tr th:only-of-type {\n",
       "        vertical-align: middle;\n",
       "    }\n",
       "\n",
       "    .dataframe tbody tr th {\n",
       "        vertical-align: top;\n",
       "    }\n",
       "\n",
       "    .dataframe thead th {\n",
       "        text-align: right;\n",
       "    }\n",
       "</style>\n",
       "<table border=\"1\" class=\"dataframe\">\n",
       "  <thead>\n",
       "    <tr style=\"text-align: right;\">\n",
       "      <th></th>\n",
       "      <th>id</th>\n",
       "      <th>name</th>\n",
       "      <th>category</th>\n",
       "      <th>x</th>\n",
       "      <th>y</th>\n",
       "      <th>address</th>\n",
       "      <th>place_url</th>\n",
       "    </tr>\n",
       "  </thead>\n",
       "  <tbody>\n",
       "    <tr>\n",
       "      <th>1924</th>\n",
       "      <td>None</td>\n",
       "      <td>효담채</td>\n",
       "      <td>노인복지시설</td>\n",
       "      <td>128.929932</td>\n",
       "      <td>35.958992</td>\n",
       "      <td>경상북도 영천시 담안7길 2(금노동)</td>\n",
       "      <td>None</td>\n",
       "    </tr>\n",
       "    <tr>\n",
       "      <th>1925</th>\n",
       "      <td>None</td>\n",
       "      <td>우리함께영천요양원</td>\n",
       "      <td>노인복지시설</td>\n",
       "      <td>128.910648</td>\n",
       "      <td>35.931471</td>\n",
       "      <td>경상북도 영천시 금호읍 관정1길 40</td>\n",
       "      <td>None</td>\n",
       "    </tr>\n",
       "    <tr>\n",
       "      <th>1926</th>\n",
       "      <td>None</td>\n",
       "      <td>영천노인복지센터</td>\n",
       "      <td>노인복지시설</td>\n",
       "      <td>128.933700</td>\n",
       "      <td>35.962740</td>\n",
       "      <td>경상북도 영천시 원제1길 11-8</td>\n",
       "      <td>None</td>\n",
       "    </tr>\n",
       "    <tr>\n",
       "      <th>1927</th>\n",
       "      <td>None</td>\n",
       "      <td>영천백세마을</td>\n",
       "      <td>노인복지시설</td>\n",
       "      <td>128.934450</td>\n",
       "      <td>35.960340</td>\n",
       "      <td>경상북도 영천시 임고면 매호리 418번지</td>\n",
       "      <td>None</td>\n",
       "    </tr>\n",
       "    <tr>\n",
       "      <th>1928</th>\n",
       "      <td>None</td>\n",
       "      <td>굿스마트재활요양원</td>\n",
       "      <td>노인복지시설</td>\n",
       "      <td>128.919960</td>\n",
       "      <td>35.978840</td>\n",
       "      <td>경상북도 영천시 외머리로 98(화룡동)</td>\n",
       "      <td>None</td>\n",
       "    </tr>\n",
       "  </tbody>\n",
       "</table>\n",
       "</div>"
      ],
      "text/plain": [
       "        id       name category           x          y                 address  \\\n",
       "1924  None        효담채   노인복지시설  128.929932  35.958992    경상북도 영천시 담안7길 2(금노동)   \n",
       "1925  None  우리함께영천요양원   노인복지시설  128.910648  35.931471    경상북도 영천시 금호읍 관정1길 40   \n",
       "1926  None   영천노인복지센터   노인복지시설  128.933700  35.962740      경상북도 영천시 원제1길 11-8   \n",
       "1927  None     영천백세마을   노인복지시설  128.934450  35.960340  경상북도 영천시 임고면 매호리 418번지   \n",
       "1928  None  굿스마트재활요양원   노인복지시설  128.919960  35.978840   경상북도 영천시 외머리로 98(화룡동)   \n",
       "\n",
       "     place_url  \n",
       "1924      None  \n",
       "1925      None  \n",
       "1926      None  \n",
       "1927      None  \n",
       "1928      None  "
      ]
     },
     "execution_count": 9,
     "metadata": {},
     "output_type": "execute_result"
    }
   ],
   "source": [
    "# df 컬럼: ['id', 'name', 'category', 'x', 'y', 'address', 'place_url']\n",
    "# df1에서 필요한 정보만 추출해서 df 형식에 맞춤\n",
    "df1_converted = pd.DataFrame({\n",
    "    'id': [None] * len(df1),\n",
    "    'name': df1['상호명'],\n",
    "    'category': ['노인복지시설'] * len(df1),\n",
    "    'x': df1['경도'],\n",
    "    'y': df1['위도'],\n",
    "    'address': df1['소재지도로명주소'],\n",
    "    'place_url': [None] * len(df1)\n",
    "})\n",
    "\n",
    "# 두 데이터프레임 행 기준 합치기\n",
    "df_combined = pd.concat([df, df1_converted], ignore_index=True)\n",
    "\n",
    "# 결과 확인\n",
    "df_combined.tail(5)"
   ]
  },
  {
   "cell_type": "code",
   "execution_count": 12,
   "id": "2733ae3d",
   "metadata": {},
   "outputs": [
    {
     "name": "stdout",
     "output_type": "stream",
     "text": [
      "   구분  업종명     업소명              영업소 주소(도로명)      데이터기준일\n",
      "0   1  이용업   청통이발관  경상북도 영천시 청통면 원촌리 522-3   2025-05-12\n",
      "1   2  이용업   영천이용소     경상북도 영천시 고경면 호국로 391  2025-05-12\n",
      "2   3  이용업  오거리이용소       경상북도 영천시 완산동 1965   2025-05-12\n",
      "3   4  이용업   유성이용소    경상북도 영천시 서문길 28 (성내동)  2025-05-12\n",
      "4   5  이용업   향토이용소    경상북도 영천시 장수로 24 (화룡동)  2025-05-12\n"
     ]
    }
   ],
   "source": [
    "df_hair = pd.read_csv(\"data\\경상북도 영천시_미용업 현황_20250512.csv\", encoding='cp949')\n",
    "print(df_hair.head(5))"
   ]
  },
  {
   "cell_type": "code",
   "execution_count": 15,
   "id": "005ea564",
   "metadata": {},
   "outputs": [
    {
     "name": "stdout",
     "output_type": "stream",
     "text": [
      "   연번          시설명                         소재지  정원  현원          전화번호  \\\n",
      "0   1   금호윤성지역아동센터            영천시 금호읍 야수골길 9-2  29  27  054-333-9622   \n",
      "1   2  영천시야사지역아동센터           영천시 충효로 147 (야사동)  35  34  054-332-8418   \n",
      "2   3    큰사랑지역아동센터    영천시 망정2길 7-4 화성빌딩2층(망정동)  29  28  054-331-9634   \n",
      "3   4     서문지역아동센터           영천시 운동장로 40 (교촌동)  35  35  054-331-7270   \n",
      "4   5     완산지역아동센터  영천시 완산로 63-1 (완산동) 윌로펌프 2층  19  19  054-331-1114   \n",
      "\n",
      "             팩스         운영시간         운영형태    급식  \n",
      "0  054-333-9622  10:00~20:00           기본   도시락  \n",
      "1  054-332-4821  10:00~20:00           기본  자체조리  \n",
      "2  054-334-2768  10:00~21:00  특수목적형(저녁운영)   도시락  \n",
      "3  054-331-7270  10:00~19:00           기본  자체조리  \n",
      "4  054-331-1114  10:00~20:00  특수목적형(저녁운영)   도시락  \n"
     ]
    }
   ],
   "source": [
    "df_kids = pd.read_csv(\"data\\경상북도 영천시_지역아동센터현황_20220620.csv\", encoding='cp949')\n",
    "print(df_kids.head(5))"
   ]
  },
  {
   "cell_type": "code",
   "execution_count": 14,
   "id": "9736d286",
   "metadata": {},
   "outputs": [
    {
     "name": "stdout",
     "output_type": "stream",
     "text": [
      "             상호                 소재지도로명주소                   소재지지번주소         위도  \\\n",
      "0           배롱집     경상북도 영천시 청통면 장수로 438   경상북도 영천시 청통면 호당리 552-1   35.993190   \n",
      "1    아리랑태무 태권도장     경상북도 영천시 청통면 강둑길 7-2  경상북도 영천시 청통면 원촌리 516-83   35.989484   \n",
      "2         창용체육관    경상북도 영천시 모란4길 3 (야사동)      경상북도 영천시 야사동 167-14   35.976028   \n",
      "3  영남대 혁신태권도체육관  경상북도 영천시 망정1길 186 (망정동)       경상북도 영천시 망정동 347-3   35.981949   \n",
      "4         영천검도관  경상북도 영천시 중앙동4길 12 (문외동)      경상북도 영천시 문외동 138-12   35.973312   \n",
      "\n",
      "           경도  \n",
      "0  128.895276  \n",
      "1  128.823947  \n",
      "2  128.940189  \n",
      "3  128.951592  \n",
      "4  128.933604  \n"
     ]
    }
   ],
   "source": [
    "df_heath = pd.read_csv(\"data\\경상북도 영천시_체육시설업 현황_20241121.csv\", encoding='cp949')\n",
    "print(df_heath.head(5))"
   ]
  },
  {
   "cell_type": "code",
   "execution_count": 16,
   "id": "9019110a",
   "metadata": {},
   "outputs": [
    {
     "name": "stdout",
     "output_type": "stream",
     "text": [
      "category\n",
      "음식점       762\n",
      "카페        267\n",
      "부동산       186\n",
      "주차장       158\n",
      "학원        135\n",
      "체육시설      102\n",
      "편의점        97\n",
      "은행         88\n",
      "병원         85\n",
      "학교         44\n",
      "약국         35\n",
      "문화시설       26\n",
      "노인복지시설     24\n",
      "대형마트       22\n",
      "Name: count, dtype: int64\n",
      "           id             name category           x          y  \\\n",
      "0    18496405            공산칼국수      음식점  128.714131  36.054662   \n",
      "1     9152946             소원식당      음식점  128.713678  36.053840   \n",
      "2  1371209567  돌담식당 치산미나리 10호점      음식점  128.716198  36.056850   \n",
      "3  1325482892              소담상      음식점  128.708957  36.070521   \n",
      "4  1325479520            진한국물탕      음식점  128.708863  36.070619   \n",
      "\n",
      "                   address                              place_url  \n",
      "0     경북 영천시 신녕면 치산관광길 193    http://place.map.kakao.com/18496405  \n",
      "1     경북 영천시 신녕면 치산관광길 203     http://place.map.kakao.com/9152946  \n",
      "2     경북 영천시 신녕면 치산관광길 162  http://place.map.kakao.com/1371209567  \n",
      "3  대구 군위군 산성면 치산효령로 865-43  http://place.map.kakao.com/1325482892  \n",
      "4  대구 군위군 산성면 치산효령로 865-43  http://place.map.kakao.com/1325479520  \n",
      "\n",
      "        id         name category           x          y  \\\n",
      "2026  None     제이에프 줄넘기     체육시설  128.954308  35.988318   \n",
      "2027  None    점프윙스줄넘기클럽     체육시설  128.932160  35.973107   \n",
      "2028  None      인사이드스포츠     체육시설  128.944464  35.963548   \n",
      "2029  None      메이저아카데미     체육시설  128.937000  35.965120   \n",
      "2030  None  점프스타 줄넘기 클럽     체육시설  128.952120  35.981576   \n",
      "\n",
      "                               address place_url  \n",
      "2026   경상북도 영천시 창신1길 25, 2층 201호 (망정동)      None  \n",
      "2027        경상북도 영천시 조양길 120, 2층 (문내동)      None  \n",
      "2028  경상북도 영천시 시장로 128, 드림스퀘어 3층 (완산동)      None  \n",
      "2029      경상북도 영천시 시장2길 35, 지하1층 (완산동)      None  \n",
      "2030       경상북도 영천시 망정2길 183, 3층 (망정동)      None  \n"
     ]
    }
   ],
   "source": [
    "df_heath_converted = pd.DataFrame({\n",
    "    'id': [None] * len(df_heath),\n",
    "    'name': df_heath['상호'],\n",
    "    'category': ['체육시설'] * len(df_heath),\n",
    "    'x': df_heath['경도'],\n",
    "    'y': df_heath['위도'],\n",
    "    'address': df_heath['소재지도로명주소'],\n",
    "    'place_url': [None] * len(df_heath)\n",
    "})\n",
    "\n",
    "df_combined = pd.concat([df_combined, df_heath_converted], ignore_index=True)\n",
    "\n",
    "print(df_combined[\"category\"].value_counts())\n",
    "print(df_combined.head())\n",
    "print()\n",
    "print(df_combined.tail())"
   ]
  },
  {
   "cell_type": "code",
   "execution_count": 19,
   "id": "8fc57b64",
   "metadata": {},
   "outputs": [],
   "source": [
    "df_combined.to_csv(\"백업\", encoding='utf-8')"
   ]
  },
  {
   "cell_type": "code",
   "execution_count": null,
   "id": "3455cf86",
   "metadata": {},
   "outputs": [],
   "source": [
    "import pandas as pd\n",
    "import requests\n",
    "import time\n",
    "\n",
    "# 💡 카카오 REST API 키 입력\n",
    "KAKAO_API_KEY = '56afebd8a278436b55112bc1a738c9f4'  # 예: 'KakaoAK 1234567890...'\n",
    "\n",
    "# 📌 공통 함수: 주소를 위경도로 변환\n",
    "def get_lat_lon(address):\n",
    "    url = \"https://dapi.kakao.com/v2/local/search/address.json\"\n",
    "    headers = {\"Authorization\": f\"KakaoAK {KAKAO_API_KEY}\"}\n",
    "    params = {\"query\": address}\n",
    "    try:\n",
    "        response = requests.get(url, headers=headers, params=params)\n",
    "        result = response.json()\n",
    "        if result['documents']:\n",
    "            x = float(result['documents'][0]['x'])  # 경도\n",
    "            y = float(result['documents'][0]['y'])  # 위도\n",
    "            print(f\"✅ 좌표 변환 성공: {address} → ({y}, {x})\")\n",
    "            return x, y\n",
    "        else:\n",
    "            print(f\"⚠️ 좌표 없음: {address}\")\n",
    "            return None, None\n",
    "    except Exception as e:\n",
    "        print(f\"❌ 오류 발생: {address} → {e}\")\n",
    "        return None, None\n",
    "\n",
    "# 📂 CSV 불러오기\n",
    "df_hair = pd.read_csv(\"data/경상북도 영천시_미용업 현황_20250512.csv\", encoding='cp949')\n",
    "df_kids = pd.read_csv(\"data/경상북도 영천시_지역아동센터현황_20220620.csv\", encoding='cp949')\n",
    "\n",
    "# 📌 위경도 추출 (느린 작업이므로 시간 지연 포함)\n",
    "print(\"\\n▶ 미용업소 위경도 추출 시작\")\n",
    "hair_coords = []\n",
    "for i, addr in enumerate(df_hair['영업소 주소(도로명)']):\n",
    "    x, y = get_lat_lon(addr)\n",
    "    hair_coords.append((x, y))\n",
    "    time.sleep(0.1)  # API 과호출 방지\n",
    "\n",
    "df_hair['x'], df_hair['y'] = zip(*hair_coords)\n",
    "\n",
    "print(\"\\n▶ 지역아동센터 위경도 추출 시작\")\n",
    "kids_coords = []\n",
    "for i, addr in enumerate(df_kids['소재지']):\n",
    "    x, y = get_lat_lon(addr)\n",
    "    kids_coords.append((x, y))\n",
    "    time.sleep(0.1)\n",
    "\n",
    "df_kids['x'], df_kids['y'] = zip(*kids_coords)\n",
    "\n",
    "# 📌 df 형식에 맞게 컬럼 정리\n",
    "df_hair_converted = pd.DataFrame({\n",
    "    'id': [None] * len(df_hair),\n",
    "    'name': df_hair['업소명'],\n",
    "    'category': ['미용업'] * len(df_hair),\n",
    "    'x': df_hair['x'],\n",
    "    'y': df_hair['y'],\n",
    "    'address': df_hair['영업소 주소(도로명)'],\n",
    "    'place_url': [None] * len(df_hair)\n",
    "})\n",
    "\n",
    "df_kids_converted = pd.DataFrame({\n",
    "    'id': [None] * len(df_kids),\n",
    "    'name': df_kids['시설명'],\n",
    "    'category': ['지역아동센터'] * len(df_kids),\n",
    "    'x': df_kids['x'],\n",
    "    'y': df_kids['y'],\n",
    "    'address': df_kids['소재지'],\n",
    "    'place_url': [None] * len(df_kids)\n",
    "})\n",
    "\n",
    "# 📌 기존 통합 데이터프레임에 추가\n",
    "df_combined = pd.concat([df_combined, df_hair_converted, df_kids_converted], ignore_index=True)\n",
    "\n",
    "# ✅ 결과 저장\n",
    "#df_combined.to_csv(\"data/영천시_POI_통합본.csv\", index=False, encoding='utf-8-sig')\n",
    "#print(\"\\n✅ 저장 완료: data/영천시_POI_통합본.csv\")\n",
    "\n",
    "# 🔎 결과 미리 보기\n",
    "print(df_combined[\"category\"].value_counts())\n",
    "print(df_combined.tail(10))"
   ]
  },
  {
   "cell_type": "code",
   "execution_count": 23,
   "id": "887ba1dc",
   "metadata": {},
   "outputs": [],
   "source": [
    "df_combined.to_csv(\"백업.csv\", encoding='utf-8')"
   ]
  },
  {
   "cell_type": "code",
   "execution_count": 33,
   "id": "9f5a5f70",
   "metadata": {},
   "outputs": [
    {
     "name": "stderr",
     "output_type": "stream",
     "text": [
      "C:\\Users\\dodam\\AppData\\Local\\Temp\\ipykernel_13904\\3864968006.py:28: DeprecationWarning: The 'unary_union' attribute is deprecated, use the 'union_all()' method instead.\n",
      "  grid_in_yeongcheon = grid[grid.intersects(yeongcheon.unary_union)]\n"
     ]
    },
    {
     "data": {
      "text/plain": [
       "<Axes: >"
      ]
     },
     "execution_count": 33,
     "metadata": {},
     "output_type": "execute_result"
    },
    {
     "data": {
      "image/png": "[encoded data removed]",
      "text/plain": [
       "<Figure size 640x480 with 1 Axes>"
      ]
     },
     "metadata": {},
     "output_type": "display_data"
    }
   ],
   "source": [
    "import geopandas as gpd\n",
    "from shapely.geometry import box\n",
    "\n",
    "# 영천시 shp 불러오기\n",
    "gdf = gpd.read_file(\"data/SHP/경상북도/LARD_ADM_SECT_SGG_47_202505.shp\", encoding=\"cp949\").to_crs(\"EPSG:5179\")\n",
    "yeongcheon = gdf[gdf[\"SGG_NM\"].str.contains(\"영천\")]\n",
    "\n",
    "# 영천시 전체 경계 추출\n",
    "minx, miny, maxx, maxy = yeongcheon.total_bounds\n",
    "\n",
    "# 격자 크기 (500m)\n",
    "grid_size = 500\n",
    "grid_cells = []\n",
    "\n",
    "x = minx\n",
    "while x < maxx:\n",
    "    y = miny\n",
    "    while y < maxy:\n",
    "        cell = box(x, y, x + grid_size, y + grid_size)\n",
    "        grid_cells.append(cell)\n",
    "        y += grid_size\n",
    "    x += grid_size\n",
    "\n",
    "# GeoDataFrame으로 변환\n",
    "grid = gpd.GeoDataFrame(geometry=grid_cells, crs=\"EPSG:5179\")\n",
    "\n",
    "# 영천시 내부에 있는 격자만 필터링\n",
    "grid_in_yeongcheon = grid[grid.intersects(yeongcheon.unary_union)]\n",
    "\n",
    "# 시각화\n",
    "ax = yeongcheon.plot(edgecolor='gray', facecolor='none')\n",
    "grid_in_yeongcheon.plot(ax=ax, edgecolor='blue', facecolor='none', linewidth=0.5)"
   ]
  },
  {
   "cell_type": "code",
   "execution_count": 36,
   "id": "026cb4d0",
   "metadata": {},
   "outputs": [
    {
     "name": "stdout",
     "output_type": "stream",
     "text": [
      "✅ 중심점 개수: 3875개\n"
     ]
    },
    {
     "name": "stderr",
     "output_type": "stream",
     "text": [
      "c:\\Workspace\\YCmeat\\venv\\Lib\\site-packages\\geopandas\\geodataframe.py:1819: SettingWithCopyWarning: \n",
      "A value is trying to be set on a copy of a slice from a DataFrame.\n",
      "Try using .loc[row_indexer,col_indexer] = value instead\n",
      "\n",
      "See the caveats in the documentation: https://pandas.pydata.org/pandas-docs/stable/user_guide/indexing.html#returning-a-view-versus-a-copy\n",
      "  super().__setitem__(key, value)\n"
     ]
    }
   ],
   "source": [
    "grid_in_yeongcheon[\"centroid\"] = grid_in_yeongcheon.geometry.centroid\n",
    "centroids = grid_in_yeongcheon.set_geometry(\"centroid\")\n",
    "\n",
    "# 중심점을 geometry로 설정 (Polygon → Point)\n",
    "centroids = grid_in_yeongcheon.copy()\n",
    "centroids[\"geometry\"] = centroids.geometry.centroid\n",
    "# 이제 centroids.geometry는 Point가 됩니다.\n",
    "\n",
    "print(f\"✅ 중심점 개수: {len(centroids)}개\")"
   ]
  },
  {
   "cell_type": "code",
   "execution_count": null,
   "id": "413acb60",
   "metadata": {},
   "outputs": [
    {
     "name": "stderr",
     "output_type": "stream",
     "text": [
      "🔄 어린이집 수집 진행 중:   3%|▎         | 100/3875 [00:04<02:32, 24.73it/s]"
     ]
    },
    {
     "name": "stdout",
     "output_type": "stream",
     "text": [
      "✅ 현재까지 누적 수집: 0건\n"
     ]
    },
    {
     "name": "stderr",
     "output_type": "stream",
     "text": [
      "🔄 어린이집 수집 진행 중:   5%|▌         | 200/3875 [00:09<02:49, 21.69it/s]"
     ]
    },
    {
     "name": "stdout",
     "output_type": "stream",
     "text": [
      "✅ 현재까지 누적 수집: 0건\n"
     ]
    },
    {
     "name": "stderr",
     "output_type": "stream",
     "text": [
      "🔄 어린이집 수집 진행 중:   8%|▊         | 300/3875 [00:14<02:51, 20.88it/s]"
     ]
    },
    {
     "name": "stdout",
     "output_type": "stream",
     "text": [
      "✅ 현재까지 누적 수집: 0건\n"
     ]
    },
    {
     "name": "stderr",
     "output_type": "stream",
     "text": [
      "🔄 어린이집 수집 진행 중:  10%|█         | 400/3875 [00:19<02:49, 20.52it/s]"
     ]
    },
    {
     "name": "stdout",
     "output_type": "stream",
     "text": [
      "✅ 현재까지 누적 수집: 0건\n"
     ]
    },
    {
     "name": "stderr",
     "output_type": "stream",
     "text": [
      "🔄 어린이집 수집 진행 중:  13%|█▎        | 500/3875 [00:24<02:45, 20.34it/s]"
     ]
    },
    {
     "name": "stdout",
     "output_type": "stream",
     "text": [
      "✅ 현재까지 누적 수집: 0건\n"
     ]
    },
    {
     "name": "stderr",
     "output_type": "stream",
     "text": [
      "🔄 어린이집 수집 진행 중:  15%|█▌        | 600/3875 [00:53<07:13,  7.55it/s]"
     ]
    },
    {
     "name": "stdout",
     "output_type": "stream",
     "text": [
      "✅ 현재까지 누적 수집: 484건\n"
     ]
    },
    {
     "name": "stderr",
     "output_type": "stream",
     "text": [
      "🔄 어린이집 수집 진행 중:  18%|█▊        | 700/3875 [01:14<08:22,  6.32it/s]"
     ]
    },
    {
     "name": "stdout",
     "output_type": "stream",
     "text": [
      "✅ 현재까지 누적 수집: 528건\n"
     ]
    },
    {
     "name": "stderr",
     "output_type": "stream",
     "text": [
      "🔄 어린이집 수집 진행 중:  21%|██        | 800/3875 [01:33<08:41,  5.90it/s]"
     ]
    },
    {
     "name": "stdout",
     "output_type": "stream",
     "text": [
      "✅ 현재까지 누적 수집: 792건\n"
     ]
    },
    {
     "name": "stderr",
     "output_type": "stream",
     "text": [
      "🔄 어린이집 수집 진행 중:  23%|██▎       | 900/3875 [01:53<08:44,  5.67it/s]"
     ]
    },
    {
     "name": "stdout",
     "output_type": "stream",
     "text": [
      "✅ 현재까지 누적 수집: 924건\n"
     ]
    },
    {
     "name": "stderr",
     "output_type": "stream",
     "text": [
      "🔄 어린이집 수집 진행 중:  26%|██▌       | 1000/3875 [02:12<08:40,  5.52it/s]"
     ]
    },
    {
     "name": "stdout",
     "output_type": "stream",
     "text": [
      "✅ 현재까지 누적 수집: 1056건\n"
     ]
    },
    {
     "name": "stderr",
     "output_type": "stream",
     "text": [
      "🔄 어린이집 수집 진행 중:  28%|██▊       | 1100/3875 [02:31<08:31,  5.43it/s]"
     ]
    },
    {
     "name": "stdout",
     "output_type": "stream",
     "text": [
      "✅ 현재까지 누적 수집: 1276건\n"
     ]
    },
    {
     "name": "stderr",
     "output_type": "stream",
     "text": [
      "🔄 어린이집 수집 진행 중:  31%|███       | 1200/3875 [02:35<06:15,  7.12it/s]"
     ]
    },
    {
     "name": "stdout",
     "output_type": "stream",
     "text": [
      "✅ 현재까지 누적 수집: 1276건\n"
     ]
    },
    {
     "name": "stderr",
     "output_type": "stream",
     "text": [
      "🔄 어린이집 수집 진행 중:  34%|███▎      | 1300/3875 [02:55<06:47,  6.32it/s]"
     ]
    },
    {
     "name": "stdout",
     "output_type": "stream",
     "text": [
      "✅ 현재까지 누적 수집: 1364건\n"
     ]
    },
    {
     "name": "stderr",
     "output_type": "stream",
     "text": [
      "🔄 어린이집 수집 진행 중:  36%|███▌      | 1400/3875 [03:14<06:56,  5.95it/s]"
     ]
    },
    {
     "name": "stdout",
     "output_type": "stream",
     "text": [
      "✅ 현재까지 누적 수집: 1496건\n"
     ]
    },
    {
     "name": "stderr",
     "output_type": "stream",
     "text": [
      "🔄 어린이집 수집 진행 중:  39%|███▊      | 1500/3875 [03:41<07:49,  5.06it/s]"
     ]
    },
    {
     "name": "stdout",
     "output_type": "stream",
     "text": [
      "✅ 현재까지 누적 수집: 1936건\n"
     ]
    },
    {
     "name": "stderr",
     "output_type": "stream",
     "text": [
      "🔄 어린이집 수집 진행 중:  41%|████▏     | 1600/3875 [04:00<07:27,  5.09it/s]"
     ]
    },
    {
     "name": "stdout",
     "output_type": "stream",
     "text": [
      "✅ 현재까지 누적 수집: 2244건\n"
     ]
    },
    {
     "name": "stderr",
     "output_type": "stream",
     "text": [
      "🔄 어린이집 수집 진행 중:  44%|████▍     | 1700/3875 [04:32<08:25,  4.30it/s]"
     ]
    },
    {
     "name": "stdout",
     "output_type": "stream",
     "text": [
      "✅ 현재까지 누적 수집: 3652건\n"
     ]
    },
    {
     "name": "stderr",
     "output_type": "stream",
     "text": [
      "🔄 어린이집 수집 진행 중:  46%|████▋     | 1800/3875 [04:51<07:39,  4.52it/s]"
     ]
    },
    {
     "name": "stdout",
     "output_type": "stream",
     "text": [
      "✅ 현재까지 누적 수집: 4752건\n"
     ]
    },
    {
     "name": "stderr",
     "output_type": "stream",
     "text": [
      "🔄 어린이집 수집 진행 중:  49%|████▉     | 1900/3875 [05:13<07:18,  4.51it/s]"
     ]
    },
    {
     "name": "stdout",
     "output_type": "stream",
     "text": [
      "✅ 현재까지 누적 수집: 6336건\n"
     ]
    },
    {
     "name": "stderr",
     "output_type": "stream",
     "text": [
      "🔄 어린이집 수집 진행 중:  52%|█████▏    | 2000/3875 [05:47<07:58,  3.92it/s]"
     ]
    },
    {
     "name": "stdout",
     "output_type": "stream",
     "text": [
      "✅ 현재까지 누적 수집: 9416건\n"
     ]
    },
    {
     "name": "stderr",
     "output_type": "stream",
     "text": [
      "🔄 어린이집 수집 진행 중:  54%|█████▍    | 2100/3875 [06:22<08:26,  3.51it/s]"
     ]
    },
    {
     "name": "stdout",
     "output_type": "stream",
     "text": [
      "✅ 현재까지 누적 수집: 13684건\n"
     ]
    },
    {
     "name": "stderr",
     "output_type": "stream",
     "text": [
      "🔄 어린이집 수집 진행 중:  57%|█████▋    | 2200/3875 [06:41<07:10,  3.89it/s]"
     ]
    },
    {
     "name": "stdout",
     "output_type": "stream",
     "text": [
      "✅ 현재까지 누적 수집: 13948건\n"
     ]
    },
    {
     "name": "stderr",
     "output_type": "stream",
     "text": [
      "🔄 어린이집 수집 진행 중:  59%|█████▉    | 2300/3875 [07:01<06:14,  4.20it/s]"
     ]
    },
    {
     "name": "stdout",
     "output_type": "stream",
     "text": [
      "✅ 현재까지 누적 수집: 14344건\n"
     ]
    },
    {
     "name": "stderr",
     "output_type": "stream",
     "text": [
      "🔄 어린이집 수집 진행 중:  62%|██████▏   | 2400/3875 [07:21<05:34,  4.40it/s]"
     ]
    },
    {
     "name": "stdout",
     "output_type": "stream",
     "text": [
      "✅ 현재까지 누적 수집: 14828건\n"
     ]
    },
    {
     "name": "stderr",
     "output_type": "stream",
     "text": [
      "🔄 어린이집 수집 진행 중:  65%|██████▍   | 2500/3875 [07:25<03:57,  5.79it/s]"
     ]
    },
    {
     "name": "stdout",
     "output_type": "stream",
     "text": [
      "✅ 현재까지 누적 수집: 14828건\n"
     ]
    },
    {
     "name": "stderr",
     "output_type": "stream",
     "text": [
      "🔄 어린이집 수집 진행 중:  67%|██████▋   | 2600/3875 [07:30<02:53,  7.36it/s]"
     ]
    },
    {
     "name": "stdout",
     "output_type": "stream",
     "text": [
      "✅ 현재까지 누적 수집: 14828건\n"
     ]
    },
    {
     "name": "stderr",
     "output_type": "stream",
     "text": [
      "🔄 어린이집 수집 진행 중:  70%|██████▉   | 2700/3875 [07:35<02:09,  9.08it/s]"
     ]
    },
    {
     "name": "stdout",
     "output_type": "stream",
     "text": [
      "✅ 현재까지 누적 수집: 14828건\n"
     ]
    },
    {
     "name": "stderr",
     "output_type": "stream",
     "text": [
      "🔄 어린이집 수집 진행 중:  72%|███████▏  | 2800/3875 [07:55<02:27,  7.31it/s]"
     ]
    },
    {
     "name": "stdout",
     "output_type": "stream",
     "text": [
      "✅ 현재까지 누적 수집: 14916건\n"
     ]
    },
    {
     "name": "stderr",
     "output_type": "stream",
     "text": [
      "🔄 어린이집 수집 진행 중:  75%|███████▍  | 2900/3875 [08:15<02:29,  6.51it/s]"
     ]
    },
    {
     "name": "stdout",
     "output_type": "stream",
     "text": [
      "✅ 현재까지 누적 수집: 15092건\n"
     ]
    },
    {
     "name": "stderr",
     "output_type": "stream",
     "text": [
      "🔄 어린이집 수집 진행 중:  77%|███████▋  | 3000/3875 [08:19<01:44,  8.36it/s]"
     ]
    },
    {
     "name": "stdout",
     "output_type": "stream",
     "text": [
      "✅ 현재까지 누적 수집: 15092건\n"
     ]
    },
    {
     "name": "stderr",
     "output_type": "stream",
     "text": [
      "🔄 어린이집 수집 진행 중:  80%|████████  | 3100/3875 [08:24<01:16, 10.12it/s]"
     ]
    },
    {
     "name": "stdout",
     "output_type": "stream",
     "text": [
      "✅ 현재까지 누적 수집: 15092건\n"
     ]
    },
    {
     "name": "stderr",
     "output_type": "stream",
     "text": [
      "🔄 어린이집 수집 진행 중:  83%|████████▎ | 3200/3875 [08:29<00:56, 11.89it/s]"
     ]
    },
    {
     "name": "stdout",
     "output_type": "stream",
     "text": [
      "✅ 현재까지 누적 수집: 15092건\n"
     ]
    },
    {
     "name": "stderr",
     "output_type": "stream",
     "text": [
      "🔄 어린이집 수집 진행 중:  85%|████████▌ | 3300/3875 [08:34<00:42, 13.53it/s]"
     ]
    },
    {
     "name": "stdout",
     "output_type": "stream",
     "text": [
      "✅ 현재까지 누적 수집: 15092건\n"
     ]
    },
    {
     "name": "stderr",
     "output_type": "stream",
     "text": [
      "🔄 어린이집 수집 진행 중:  88%|████████▊ | 3400/3875 [08:55<00:54,  8.72it/s]"
     ]
    },
    {
     "name": "stdout",
     "output_type": "stream",
     "text": [
      "✅ 현재까지 누적 수집: 15180건\n"
     ]
    },
    {
     "name": "stderr",
     "output_type": "stream",
     "text": [
      "🔄 어린이집 수집 진행 중:  90%|█████████ | 3500/3875 [09:16<00:54,  6.93it/s]"
     ]
    },
    {
     "name": "stdout",
     "output_type": "stream",
     "text": [
      "✅ 현재까지 누적 수집: 15400건\n"
     ]
    },
    {
     "name": "stderr",
     "output_type": "stream",
     "text": [
      "🔄 어린이집 수집 진행 중:  93%|█████████▎| 3600/3875 [09:20<00:31,  8.83it/s]"
     ]
    },
    {
     "name": "stdout",
     "output_type": "stream",
     "text": [
      "✅ 현재까지 누적 수집: 15400건\n"
     ]
    },
    {
     "name": "stderr",
     "output_type": "stream",
     "text": [
      "🔄 어린이집 수집 진행 중:  95%|█████████▌| 3700/3875 [09:25<00:16, 10.61it/s]"
     ]
    },
    {
     "name": "stdout",
     "output_type": "stream",
     "text": [
      "✅ 현재까지 누적 수집: 15400건\n"
     ]
    },
    {
     "name": "stderr",
     "output_type": "stream",
     "text": [
      "🔄 어린이집 수집 진행 중:  98%|█████████▊| 3800/3875 [09:30<00:06, 12.35it/s]"
     ]
    },
    {
     "name": "stdout",
     "output_type": "stream",
     "text": [
      "✅ 현재까지 누적 수집: 15400건\n"
     ]
    },
    {
     "name": "stderr",
     "output_type": "stream",
     "text": [
      "🔄 어린이집 수집 진행 중: 100%|██████████| 3875/3875 [09:34<00:00,  6.75it/s]"
     ]
    },
    {
     "name": "stdout",
     "output_type": "stream",
     "text": [
      "✅ 현재까지 누적 수집: 15400건\n",
      "\n",
      "✅ 최종 수집 완료: 총 57건 저장됨 → '카카오_어린이집_POI.csv'\n"
     ]
    },
    {
     "name": "stderr",
     "output_type": "stream",
     "text": [
      "\n"
     ]
    },
    {
     "ename": "",
     "evalue": "",
     "output_type": "error",
     "traceback": [
      "\u001b[1;31m현재 셀 또는 이전 셀에서 코드를 실행하는 동안 Kernel이 충돌했습니다. \n",
      "\u001b[1;31m셀의 코드를 검토하여 가능한 오류 원인을 식별하세요. \n",
      "\u001b[1;31m자세한 내용을 보려면 <a href='https://aka.ms/vscodeJupyterKernelCrash'>여기</a>를 클릭하세요. \n",
      "\u001b[1;31m자세한 내용은 Jupyter <a href='command:jupyter.viewOutput'>로그</a>를 참조하세요."
     ]
    }
   ],
   "source": [
    "import pandas as pd\n",
    "import aiohttp\n",
    "import asyncio\n",
    "from aiolimiter import AsyncLimiter\n",
    "from shapely.ops import transform\n",
    "import pyproj\n",
    "from tqdm import tqdm\n",
    "import os\n",
    "import nest_asyncio\n",
    "from dotenv import load_dotenv\n",
    "\n",
    "nest_asyncio.apply()\n",
    "load_dotenv()\n",
    "\n",
    "# ▶ 설정\n",
    "KAKAO_API_KEY = os.getenv(\"KAKAO_API_KEY\")\n",
    "HEADERS = {\"Authorization\": f\"KakaoAK {KAKAO_API_KEY}\"}\n",
    "CATEGORY_NAME = \"어린이집\"\n",
    "CATEGORY_CODE = \"PS3\"  # 카카오 카테고리 코드: 어린이집\n",
    "RADIUS = 700\n",
    "LIMIT_PER_SEC = 20\n",
    "BATCH_SIZE = 100\n",
    "\n",
    "# ▶ centroids: GeoDataFrame 로딩 및 중심점 좌표 변환\n",
    "# centroids = gpd.read_file(\"your_centroid.geojson\")  # 예시\n",
    "# 여기선 이미 centroids가 정의되어 있다고 가정\n",
    "project = pyproj.Transformer.from_crs(\"EPSG:5179\", \"EPSG:4326\", always_xy=True).transform\n",
    "centroids[\"wgs84\"] = centroids[\"geometry\"].apply(lambda geom: transform(project, geom))\n",
    "\n",
    "# ▶ 요청 제한\n",
    "limiter = AsyncLimiter(LIMIT_PER_SEC, time_period=1)\n",
    "results = []\n",
    "\n",
    "# ▶ 비동기 요청 함수\n",
    "async def fetch_poi(session, x, y, idx):\n",
    "    url = \"https://dapi.kakao.com/v2/local/search/category.json\"\n",
    "    all_docs = []\n",
    "    for page in range(1, 45):\n",
    "        params = {\n",
    "            \"category_group_code\": CATEGORY_CODE,\n",
    "            \"x\": x,\n",
    "            \"y\": y,\n",
    "            \"radius\": RADIUS,\n",
    "            \"page\": page,\n",
    "            \"size\": 15\n",
    "        }\n",
    "        async with limiter:\n",
    "            try:\n",
    "                async with session.get(url, headers=HEADERS, params=params, timeout=10) as res:\n",
    "                    if res.status != 200:\n",
    "                        print(f\"❌ 요청 실패 [index={idx}] page={page} status={res.status}\")\n",
    "                        break\n",
    "                    data = await res.json()\n",
    "                    docs = data.get(\"documents\", [])\n",
    "                    if not docs:\n",
    "                        break\n",
    "                    for doc in docs:\n",
    "                        doc[\"grid_idx\"] = idx\n",
    "                        all_docs.append(doc)\n",
    "            except Exception as e:\n",
    "                print(f\"⚠️ 예외 발생 [index={idx}] page={page} → {type(e).__name__}: {e}\")\n",
    "                break\n",
    "        await asyncio.sleep(0.3)\n",
    "    return all_docs\n",
    "\n",
    "# ▶ 메인 함수\n",
    "async def main():\n",
    "    async with aiohttp.ClientSession() as session:\n",
    "        centroid_items = list(centroids.iterrows())\n",
    "        pbar = tqdm(total=len(centroid_items), desc=\"🔄 어린이집 수집 진행 중\")\n",
    "        for i in range(0, len(centroid_items), BATCH_SIZE):\n",
    "            batch = centroid_items[i:i + BATCH_SIZE]\n",
    "            tasks = []\n",
    "            for idx, row in batch:\n",
    "                x, y = row[\"wgs84\"].x, row[\"wgs84\"].y\n",
    "                tasks.append(fetch_poi(session, x, y, idx))\n",
    "            batch_results = await asyncio.gather(*tasks)\n",
    "            for r in batch_results:\n",
    "                results.extend(r)\n",
    "            pbar.update(len(batch))  # 진행 바 업데이트\n",
    "            print(f\"✅ 현재까지 누적 수집: {len(results)}건\")\n",
    "        pbar.close()\n",
    "\n",
    "    # ▶ 결과 저장\n",
    "    df = pd.DataFrame(results).drop_duplicates(subset=[\"id\"])\n",
    "    df.to_csv(\"data/카카오_어린이집_POI.csv\", index=False, encoding='utf-8-sig')\n",
    "    print(f\"\\n✅ 최종 수집 완료: 총 {len(df)}건 저장됨 → '카카오_어린이집_POI.csv'\")\n",
    "\n",
    "# ▶ 실행\n",
    "if __name__ == \"__main__\":\n",
    "    asyncio.run(main())"
   ]
  },
  {
   "cell_type": "code",
   "execution_count": 1,
   "id": "17a2b04e",
   "metadata": {},
   "outputs": [
    {
     "data": {
      "text/plain": [
       "id            name           category  x           y          address               place_url                            \n",
       "2.146244e+09  시골뚝배기 영천점      음식점       128.962416  35.979783  경북 영천시 포은로 21         http://place.map.kakao.com/2146244379    1\n",
       "3.818796e+06  꼭지어린이집         어린이집,유치원  128.953486  35.988806  경북 영천시 망정동 468        http://place.map.kakao.com/3818796       1\n",
       "5.150423e+06  오름부동산          부동산       128.936879  35.965394  경북 영천시 강남길 33         http://place.map.kakao.com/5150423       1\n",
       "2.117096e+09  보리떡머슴과 커피마님    카페        128.975980  36.011719  경북 영천시 임고면 양항2길 27-4  http://place.map.kakao.com/2117096103    1\n",
       "2.116451e+09  이마트24 영천미소지움점  편의점       128.943215  35.966874  경북 영천시 완산5길 25        http://place.map.kakao.com/2116450591    1\n",
       "                                                                                                                            ..\n",
       "7.849763e+06  또래어린이집         어린이집,유치원  128.940476  35.978686  경북 영천시 야사동 344-2      http://place.map.kakao.com/7849763       1\n",
       "7.830570e+06  대인 공인중개사사무소    부동산       128.878600  35.932887  경북 영천시 금호읍 금호로 158    http://place.map.kakao.com/7830570       1\n",
       "7.816885e+06  iM뱅크 대구대점      은행        128.851385  35.903065  경북 경산시 진량읍 대구대로 201   http://place.map.kakao.com/7816885       1\n",
       "7.816714e+06  iM뱅크 영천영업부     은행        128.935074  35.963628  경북 영천시 시장로 45         http://place.map.kakao.com/7816714       1\n",
       "6.853615e+06  멍애견카페          카페        128.966463  35.993931  경북 영천시 임고면 포은로 185    http://place.map.kakao.com/6853615       1\n",
       "Name: count, Length: 1859, dtype: int64"
      ]
     },
     "execution_count": 1,
     "metadata": {},
     "output_type": "execute_result"
    }
   ],
   "source": [
    "import pandas as pd\n",
    "\n",
    "# 파일 불러오기\n",
    "df_backup = pd.read_csv(\"data/백업.csv\")\n",
    "df_kakao = pd.read_csv(\"data/카카오_어린이집_POI.csv\")\n",
    "\n",
    "# 백업 인덱스 컬럼 제거\n",
    "df_backup = df_backup.drop(columns=[\"Unnamed: 0\"], errors=\"ignore\")\n",
    "\n",
    "# df_kakao 구조를 백업 기준에 맞춤\n",
    "df_kakao_formatted = pd.DataFrame({\n",
    "    'id': df_kakao['id'],\n",
    "    'name': df_kakao['place_name'],\n",
    "    'category': df_kakao['category_group_name'],\n",
    "    'x': df_kakao['x'],\n",
    "    'y': df_kakao['y'],\n",
    "    'address': df_kakao['address_name'],\n",
    "    'place_url': df_kakao['place_url']\n",
    "})\n",
    "\n",
    "# 병합\n",
    "df_combined = pd.concat([df_backup, df_kakao_formatted], ignore_index=True)\n",
    "\n",
    "# 결과 저장 (선택)\n",
    "df_combined.value_counts()"
   ]
  },
  {
   "cell_type": "code",
   "execution_count": 8,
   "id": "9c670543",
   "metadata": {},
   "outputs": [
    {
     "name": "stderr",
     "output_type": "stream",
     "text": [
      "<>:2: SyntaxWarning: invalid escape sequence '\\W'\n",
      "<>:2: SyntaxWarning: invalid escape sequence '\\W'\n",
      "C:\\Users\\dodam\\AppData\\Local\\Temp\\ipykernel_44508\\1359205244.py:2: SyntaxWarning: invalid escape sequence '\\W'\n",
      "  df=pd.read_csv(\"C:\\Workspace\\YCmeat\\data\\영천시_POI_통합본.csv\", encoding='cp949')\n"
     ]
    }
   ],
   "source": [
    "import pandas as pd\n",
    "df=pd.read_csv(\"C:\\Workspace\\YCmeat\\data\\영천시_POI_통합본.csv\", encoding='cp949')\n",
    "df = df[df['address'].str.contains(\"영천\", na=False)]\n",
    "df.to_csv(\"영천시_POI_통합본.csv\", index=False, encoding='utf-8-sig')"
   ]
  },
  {
   "cell_type": "code",
   "execution_count": 4,
   "id": "cfd4e35d",
   "metadata": {},
   "outputs": [],
   "source": [
    "import pandas as pd\n",
    "\n",
    "# CSV 파일 불러오기\n",
    "df = pd.read_csv(\"../data/영천시_POI_통합본.csv\")\n",
    "\n",
    "# '병원'과 '약국'을 '의료기관'으로 변경\n",
    "df['category'] = df['category'].replace({'병원': '의료기관', '약국': '의료기관'})\n",
    "\n",
    "df.to_csv(\"../data/영천시_POI_통합본.csv\", index=False, encoding='utf-8-sig')"
   ]
  }
 ],
 "metadata": {
  "kernelspec": {
   "display_name": "venv",
   "language": "python",
   "name": "python3"
  },
  "language_info": {
   "codemirror_mode": {
    "name": "ipython",
    "version": 3
   },
   "file_extension": ".py",
   "mimetype": "text/x-python",
   "name": "python",
   "nbconvert_exporter": "python",
   "pygments_lexer": "ipython3",
   "version": "3.13.3"
  }
 },
 "nbformat": 4,
 "nbformat_minor": 5
}
