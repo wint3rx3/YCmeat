{
 "cells": [
  {
   "cell_type": "code",
   "execution_count": null,
   "id": "ad869b1a",
   "metadata": {},
   "outputs": [
    {
     "name": "stderr",
     "output_type": "stream",
     "text": [
      "C:\\Users\\dodam\\AppData\\Local\\Temp\\ipykernel_26044\\1895652398.py:42: DeprecationWarning: The 'unary_union' attribute is deprecated, use the 'union_all()' method instead.\n",
      "  boundary = gdf[gdf[\"SGG_NM\"].str.contains(city)].geometry.unary_union\n",
      "C:\\Users\\dodam\\AppData\\Local\\Temp\\ipykernel_26044\\1895652398.py:42: DeprecationWarning: The 'unary_union' attribute is deprecated, use the 'union_all()' method instead.\n",
      "  boundary = gdf[gdf[\"SGG_NM\"].str.contains(city)].geometry.unary_union\n",
      "C:\\Users\\dodam\\AppData\\Local\\Temp\\ipykernel_26044\\1895652398.py:40: DeprecationWarning: The 'unary_union' attribute is deprecated, use the 'union_all()' method instead.\n",
      "  boundary = gdf.geometry.unary_union\n"
     ]
    }
   ],
   "source": [
    "import matplotlib.pyplot as plt\n",
    "import geopandas as gpd\n",
    "import pandas as pd\n",
    "import numpy as np\n",
    "from shapely.geometry import Point\n",
    "from scipy.interpolate import griddata\n",
    "\n",
    "plt.rcParams[\"font.family\"] = \"Malgun Gothic\"\n",
    "plt.rcParams[\"axes.unicode_minus\"] = False\n",
    "\n",
    "# 1. 시군 설정 및 데이터 경로 매핑\n",
    "regions = {\n",
    "    \"이천시\": (\"data/체감온도/이천시_WBGT.csv\", \"data/행정동경계_원천데이터/경기도/LARD_ADM_SECT_SGG_41_202505.shp\"),\n",
    "    \"구리시\": (\"data/체감온도/구리시_WBGT.csv\", \"data/행정동경계_원천데이터/경기도/LARD_ADM_SECT_SGG_41_202505.shp\"),\n",
    "    \"세종시\": (\"data/체감온도/세종시_WBGT.csv\", \"data/행정동경계_원천데이터/세종특별자치시/LARD_ADM_SECT_SGG_36_202505.shp\"),\n",
    "}\n",
    "\n",
    "# 2. 전체 WBGT 범위 계산 (vmin, vmax)\n",
    "all_wbgt = []\n",
    "for csv_path, _ in regions.values():\n",
    "    df = pd.read_csv(csv_path)\n",
    "    all_wbgt.extend(df[\"WBGT\"].values)\n",
    "\n",
    "vmin = np.floor(min(all_wbgt) * 10) / 10\n",
    "vmax = np.ceil(max(all_wbgt) * 10) / 10\n",
    "\n",
    "# 3. subplot 생성\n",
    "fig, axes = plt.subplots(1, 3, figsize=(18, 6), constrained_layout=True)\n",
    "fig.suptitle(\"시군별 WBGT 연평균 분포도\", fontsize=16)\n",
    "\n",
    "# 4. 각 subplot에 시각화\n",
    "for ax, (city, (csv_path, shp_path)) in zip(axes, regions.items()):\n",
    "    df = pd.read_csv(csv_path)\n",
    "    lon, lat, wbgt = df[\"lon\"], df[\"lat\"], df[\"WBGT\"]\n",
    "\n",
    "    gdf = gpd.read_file(shp_path).to_crs(\"EPSG:4326\")\n",
    "\n",
    "    # 경계 추출 (세종시는 도시 이름 필터 생략)\n",
    "    if city == \"세종시\":\n",
    "        boundary = gdf.geometry.unary_union\n",
    "    else:\n",
    "        boundary = gdf[gdf[\"SGG_NM\"].str.contains(city)].geometry.unary_union\n",
    "\n",
    "\n",
    "    # 그리드 및 보간\n",
    "    grid_lon = np.linspace(lon.min(), lon.max(), 300)\n",
    "    grid_lat = np.linspace(lat.min(), lat.max(), 300)\n",
    "    grid_x, grid_y = np.meshgrid(grid_lon, grid_lat)\n",
    "    grid_z = griddata((lon, lat), wbgt, (grid_x, grid_y), method=\"cubic\")\n",
    "\n",
    "    # 마스킹\n",
    "    mask = np.array([[boundary.contains(Point(x, y)) for x in grid_lon] for y in grid_lat])\n",
    "    masked_z = np.where(mask, grid_z, np.nan)\n",
    "\n",
    "    # 시각화\n",
    "    pcm = ax.pcolormesh(grid_x, grid_y, masked_z, cmap=\"YlOrRd\", shading=\"auto\")\n",
    "    gpd.GeoSeries(boundary).boundary.plot(ax=ax, edgecolor=\"black\", linewidth=1)\n",
    "\n",
    "    ax.set_title(city)\n",
    "    ax.set_xlabel(\"경도\")\n",
    "    ax.set_ylabel(\"위도\")\n",
    "    ax.set_aspect(\"equal\")\n",
    "\n",
    "# 5. 공통 colorbar 추가\n",
    "cbar = fig.colorbar(pcm, ax=axes.ravel().tolist(), shrink=0.8, orientation=\"vertical\", label=\"WBGT (°C)\")\n",
    "\n",
    "plt.show()"
   ]
  },
  {
   "cell_type": "code",
   "execution_count": null,
   "id": "be19200d",
   "metadata": {},
   "outputs": [],
   "source": []
  }
 ],
 "metadata": {
  "kernelspec": {
   "display_name": "venv",
   "language": "python",
   "name": "python3"
  },
  "language_info": {
   "codemirror_mode": {
    "name": "ipython",
    "version": 3
   },
   "file_extension": ".py",
   "mimetype": "text/x-python",
   "name": "python",
   "nbconvert_exporter": "python",
   "pygments_lexer": "ipython3",
   "version": "3.13.3"
  }
 },
 "nbformat": 4,
 "nbformat_minor": 5
}
